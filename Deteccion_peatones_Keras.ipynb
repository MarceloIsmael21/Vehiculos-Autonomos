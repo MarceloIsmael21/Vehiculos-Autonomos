{
  "cells": [
    {
      "cell_type": "code",
      "execution_count": 3,
      "metadata": {
        "colab": {
          "base_uri": "https://localhost:8080/"
        },
        "id": "M1mYb5Cd3E-R",
        "outputId": "5cc336f3-337c-4c8f-bccc-bd2a3c91ef70"
      },
      "outputs": [
        {
          "ename": "ModuleNotFoundError",
          "evalue": "No module named 'google'",
          "output_type": "error",
          "traceback": [
            "\u001b[31m---------------------------------------------------------------------------\u001b[39m",
            "\u001b[31mModuleNotFoundError\u001b[39m                       Traceback (most recent call last)",
            "\u001b[36mCell\u001b[39m\u001b[36m \u001b[39m\u001b[32mIn[3]\u001b[39m\u001b[32m, line 2\u001b[39m\n\u001b[32m      1\u001b[39m \u001b[38;5;66;03m# Montar Google Drive para acceder al dataset\u001b[39;00m\n\u001b[32m----> \u001b[39m\u001b[32m2\u001b[39m \u001b[38;5;28;01mfrom\u001b[39;00m\u001b[38;5;250m \u001b[39m\u001b[34;01mgoogle\u001b[39;00m\u001b[34;01m.\u001b[39;00m\u001b[34;01mcolab\u001b[39;00m\u001b[38;5;250m \u001b[39m\u001b[38;5;28;01mimport\u001b[39;00m drive\n\u001b[32m      3\u001b[39m drive.mount(\u001b[33m'\u001b[39m\u001b[33m/content/drive\u001b[39m\u001b[33m'\u001b[39m)\n\u001b[32m      5\u001b[39m data_dir = \u001b[33m'\u001b[39m\u001b[33m/content/drive/MyDrive/MNA/Colab Notebooks/MNA/Navegacion autonoma/Actividad 4.1 - Deteccion de Peatones con Keras/Train pics\u001b[39m\u001b[33m'\u001b[39m\n",
            "\u001b[31mModuleNotFoundError\u001b[39m: No module named 'google'"
          ]
        }
      ],
      "source": [
        "# Montar Google Drive para acceder al dataset\n",
        "from google.colab import drive\n",
        "drive.mount('/content/drive')\n",
        "\n",
        "data_dir = '/content/drive/MyDrive/MNA/Colab Notebooks/MNA/Navegacion autonoma/Actividad 4.1 - Deteccion de Peatones con Keras/Train pics'\n",
        "\n"
      ]
    },
    {
      "cell_type": "code",
      "execution_count": 8,
      "metadata": {},
      "outputs": [],
      "source": [
        "data_dir='INRIA_Person/'"
      ]
    },
    {
      "cell_type": "code",
      "execution_count": 54,
      "metadata": {
        "id": "5Uw7iZVkyuIa"
      },
      "outputs": [],
      "source": [
        "# Importar librerías usadas en la aplicación\n",
        "# !pip install keras\n",
        "\n",
        "import numpy as np\n",
        "from sklearn.metrics import confusion_matrix, ConfusionMatrixDisplay\n",
        "import matplotlib.pyplot as plt\n",
        "import keras #Para construir redes neuronales\n",
        "from keras.models import Sequential #Modelo secuencial\n",
        "from keras.layers import Conv2D, MaxPooling2D, Flatten, Dense, Dropout #Dense para capas conectadas y Flatten para aplanar la entrada\n",
        "from keras.optimizers import Adam #Optimizador Adam\n",
        "import keras_metrics\n",
        "import matplotlib.pyplot as plt\n",
        "from tensorflow.keras.callbacks import EarlyStopping, ReduceLROnPlateau\n",
        "from tensorflow.keras.preprocessing.image import ImageDataGenerator #Cargar y procesar imagenes desde carpetas.\n",
        "                                                                    #Se utiliza Tensorflow porque en versiones modernas de Keras, ImageDataGenerator\n",
        "                                                                    #ya no se importa desde Keras, se debe importar ahora desde tensorflow.keras"
      ]
    },
    {
      "cell_type": "code",
      "execution_count": 9,
      "metadata": {
        "colab": {
          "base_uri": "https://localhost:8080/"
        },
        "id": "VQB2VYLb7Bdm",
        "outputId": "3ef420c7-9b9f-46b0-b410-3af1bf33747e"
      },
      "outputs": [
        {
          "name": "stdout",
          "output_type": "stream",
          "text": [
            "Found 1467 images belonging to 2 classes.\n",
            "Found 365 images belonging to 2 classes.\n"
          ]
        }
      ],
      "source": [
        "# # Normalización y división de entrenamiento/validación\n",
        "# datagen = ImageDataGenerator(rescale=1./255, validation_split=0.2)\n",
        "\n",
        "# # Crear generador para entrenamiento\n",
        "# train_gen = datagen.flow_from_directory(\n",
        "#     data_dir,               #Dirección a las imágenes\n",
        "#     target_size=(64, 128),  # Tamaño al que se redimensionan las imágenes\n",
        "#     batch_size=32,          # Agrupa las imagenes en paquetes de 32 para ser procesadas en paquetes\n",
        "#     class_mode='binary',  # Salida binaria\n",
        "#     subset='training'  # Usa el 80% para entrenamiento\n",
        "# )\n",
        "\n",
        "# # Crear generador para validación\n",
        "# val_gen = datagen.flow_from_directory(\n",
        "#     data_dir,\n",
        "#     target_size=(64, 128),\n",
        "#     batch_size=32,\n",
        "#     class_mode='binary',\n",
        "#     subset='validation'  # Usa el 20% para validación\n",
        "# )\n",
        "\n",
        "\n",
        "# Data augmentation + normalización para entrenamiento\n",
        "train_datagen = ImageDataGenerator(\n",
        "    rescale=1./255,          # Normaliza los pixeles a [0,1]\n",
        "    validation_split=0.2,    # Divide el dataset en entrenamiento y validación\n",
        "    rotation_range=10,       # Rota imágenes hasta 10 grados para variedad\n",
        "    width_shift_range=0.1,   # Desplaza horizontalmente hasta 10%\n",
        "    height_shift_range=0.1,  # Desplaza verticalmente hasta 10%\n",
        "    zoom_range=0.1,          # Zoom aleatorio hasta 10%\n",
        "    horizontal_flip=True     # Voltea horizontalmente (solo si aplica a tu problema)\n",
        ")\n",
        "\n",
        "# Solo normalización para validación (sin augmentations)\n",
        "val_datagen = ImageDataGenerator(\n",
        "    rescale=1./255,\n",
        "    validation_split=0.2\n",
        ")\n",
        "\n",
        "# Generador para entrenamiento usando augmentations\n",
        "train_gen = train_datagen.flow_from_directory(\n",
        "    data_dir,               # Carpeta con imágenes organizadas en subcarpetas por clase\n",
        "    target_size=(64, 128),  # Redimensiona imágenes a 64x128 (ancho x alto)\n",
        "    batch_size=32,          # Procesa en lotes de 32 imágenes\n",
        "    class_mode='binary',    # Clasificación binaria\n",
        "    subset='training'       # Usa el 80% para entrenamiento\n",
        ")\n",
        "\n",
        "# Generador para validación sin augmentations\n",
        "val_gen = val_datagen.flow_from_directory(\n",
        "    data_dir,\n",
        "    target_size=(64, 128),\n",
        "    batch_size=32,\n",
        "    class_mode='binary',\n",
        "    subset='validation'     # Usa el 20% para validación\n",
        ")"
      ]
    },
    {
      "cell_type": "code",
      "execution_count": 11,
      "metadata": {
        "colab": {
          "base_uri": "https://localhost:8080/"
        },
        "id": "YGq9lxAMCiJt",
        "outputId": "02332169-8469-4ece-c19d-534d4049ca88"
      },
      "outputs": [
        {
          "name": "stdout",
          "output_type": "stream",
          "text": [
            "Imágenes en entrenamiento: 1467\n",
            "Imágenes en validación: 365\n",
            "Clases: {'neg': 0, 'pos': 1}\n"
          ]
        }
      ],
      "source": [
        "print(f\"Imágenes en entrenamiento: {train_gen.samples}\")\n",
        "print(f\"Imágenes en validación: {val_gen.samples}\")\n",
        "print(f\"Clases: {train_gen.class_indices}\")"
      ]
    },
    {
      "cell_type": "code",
      "execution_count": 60,
      "metadata": {
        "colab": {
          "base_uri": "https://localhost:8080/"
        },
        "id": "0QOMHDTjDatC",
        "outputId": "862e6bba-2784-4fb8-a80b-e83cbf369281"
      },
      "outputs": [],
      "source": [
        "# Crear modelo secuencial CNN\n",
        "model = Sequential()\n",
        "# # Aplanar la imagen de entrada (64x128x3 - vector)\n",
        "# model.add(Flatten(input_shape=(128, 64, 3)))  # alto=128, ancho=64, canales=3 - 24,576 entradas\n",
        "\n",
        "#Primera capa convolucional\n",
        "model.add(Conv2D(64, (3, 3), activation='sigmoid', input_shape=(128, 64, 3)))  # Filtros 3x3\n",
        "model.add(MaxPooling2D(pool_size=(2, 2)))  # Reduce tamaño espacial a la mitad\n",
        "\n",
        "#Segunda capa convolucional\n",
        "model.add(Conv2D(64, (3, 3), activation='sigmoid'))\n",
        "model.add(MaxPooling2D(pool_size=(2, 2)))\n",
        "\n",
        "#Tercera capa convolucional\n",
        "model.add(Conv2D(128, (3, 3), activation='sigmoid'))\n",
        "model.add(MaxPooling2D(pool_size=(2, 2)))\n",
        "\n",
        "# Aplanar para conectar con capas densas\n",
        "model.add(Flatten())\n",
        "\n",
        "# Capa oculta totalmente conectada con Dropout para regularización\n",
        "model.add(Dense(256, activation='relu'))\n",
        "model.add(Dropout(0.4))\n",
        "\n",
        "model.add(Dense(1, activation='sigmoid')) # Capa de salida: clasificación binaria\n",
        "\n",
        "# Callbacks: parada temprana y reducción del LR si no mejora\n",
        "early_stop = EarlyStopping(monitor='val_loss', patience=3, restore_best_weights=True)\n",
        "reduce_lr = ReduceLROnPlateau(monitor='val_loss', factor=0.5, patience=2, verbose=1)\n",
        "\n",
        "# Compilar el modelo\n",
        "model.compile(optimizer=Adam(learning_rate = 0.1), loss='binary_crossentropy', metrics=['recall'])\n",
        "#model.compile(optimizer=\"sdg\", loss='binary_crossentropy', metrics=[keras_metrics.precision(), keras_metrics.recall()])\n"
      ]
    },
    {
      "cell_type": "code",
      "execution_count": 61,
      "metadata": {
        "colab": {
          "base_uri": "https://localhost:8080/",
          "height": 476
        },
        "id": "Xts8abcgbV64",
        "outputId": "68d9486d-df9d-4686-9fb8-78bbfc134f9e"
      },
      "outputs": [
        {
          "data": {
            "text/html": [
              "<pre style=\"white-space:pre;overflow-x:auto;line-height:normal;font-family:Menlo,'DejaVu Sans Mono',consolas,'Courier New',monospace\"><span style=\"font-weight: bold\">Model: \"sequential_12\"</span>\n",
              "</pre>\n"
            ],
            "text/plain": [
              "\u001b[1mModel: \"sequential_12\"\u001b[0m\n"
            ]
          },
          "metadata": {},
          "output_type": "display_data"
        },
        {
          "data": {
            "text/html": [
              "<pre style=\"white-space:pre;overflow-x:auto;line-height:normal;font-family:Menlo,'DejaVu Sans Mono',consolas,'Courier New',monospace\">┏━━━━━━━━━━━━━━━━━━━━━━━━━━━━━━━━━┳━━━━━━━━━━━━━━━━━━━━━━━━┳━━━━━━━━━━━━━━━┓\n",
              "┃<span style=\"font-weight: bold\"> Layer (type)                    </span>┃<span style=\"font-weight: bold\"> Output Shape           </span>┃<span style=\"font-weight: bold\">       Param # </span>┃\n",
              "┡━━━━━━━━━━━━━━━━━━━━━━━━━━━━━━━━━╇━━━━━━━━━━━━━━━━━━━━━━━━╇━━━━━━━━━━━━━━━┩\n",
              "│ conv2d_36 (<span style=\"color: #0087ff; text-decoration-color: #0087ff\">Conv2D</span>)              │ (<span style=\"color: #00d7ff; text-decoration-color: #00d7ff\">None</span>, <span style=\"color: #00af00; text-decoration-color: #00af00\">126</span>, <span style=\"color: #00af00; text-decoration-color: #00af00\">62</span>, <span style=\"color: #00af00; text-decoration-color: #00af00\">64</span>)    │         <span style=\"color: #00af00; text-decoration-color: #00af00\">1,792</span> │\n",
              "├─────────────────────────────────┼────────────────────────┼───────────────┤\n",
              "│ max_pooling2d_36 (<span style=\"color: #0087ff; text-decoration-color: #0087ff\">MaxPooling2D</span>) │ (<span style=\"color: #00d7ff; text-decoration-color: #00d7ff\">None</span>, <span style=\"color: #00af00; text-decoration-color: #00af00\">63</span>, <span style=\"color: #00af00; text-decoration-color: #00af00\">31</span>, <span style=\"color: #00af00; text-decoration-color: #00af00\">64</span>)     │             <span style=\"color: #00af00; text-decoration-color: #00af00\">0</span> │\n",
              "├─────────────────────────────────┼────────────────────────┼───────────────┤\n",
              "│ conv2d_37 (<span style=\"color: #0087ff; text-decoration-color: #0087ff\">Conv2D</span>)              │ (<span style=\"color: #00d7ff; text-decoration-color: #00d7ff\">None</span>, <span style=\"color: #00af00; text-decoration-color: #00af00\">61</span>, <span style=\"color: #00af00; text-decoration-color: #00af00\">29</span>, <span style=\"color: #00af00; text-decoration-color: #00af00\">64</span>)     │        <span style=\"color: #00af00; text-decoration-color: #00af00\">36,928</span> │\n",
              "├─────────────────────────────────┼────────────────────────┼───────────────┤\n",
              "│ max_pooling2d_37 (<span style=\"color: #0087ff; text-decoration-color: #0087ff\">MaxPooling2D</span>) │ (<span style=\"color: #00d7ff; text-decoration-color: #00d7ff\">None</span>, <span style=\"color: #00af00; text-decoration-color: #00af00\">30</span>, <span style=\"color: #00af00; text-decoration-color: #00af00\">14</span>, <span style=\"color: #00af00; text-decoration-color: #00af00\">64</span>)     │             <span style=\"color: #00af00; text-decoration-color: #00af00\">0</span> │\n",
              "├─────────────────────────────────┼────────────────────────┼───────────────┤\n",
              "│ conv2d_38 (<span style=\"color: #0087ff; text-decoration-color: #0087ff\">Conv2D</span>)              │ (<span style=\"color: #00d7ff; text-decoration-color: #00d7ff\">None</span>, <span style=\"color: #00af00; text-decoration-color: #00af00\">28</span>, <span style=\"color: #00af00; text-decoration-color: #00af00\">12</span>, <span style=\"color: #00af00; text-decoration-color: #00af00\">128</span>)    │        <span style=\"color: #00af00; text-decoration-color: #00af00\">73,856</span> │\n",
              "├─────────────────────────────────┼────────────────────────┼───────────────┤\n",
              "│ max_pooling2d_38 (<span style=\"color: #0087ff; text-decoration-color: #0087ff\">MaxPooling2D</span>) │ (<span style=\"color: #00d7ff; text-decoration-color: #00d7ff\">None</span>, <span style=\"color: #00af00; text-decoration-color: #00af00\">14</span>, <span style=\"color: #00af00; text-decoration-color: #00af00\">6</span>, <span style=\"color: #00af00; text-decoration-color: #00af00\">128</span>)     │             <span style=\"color: #00af00; text-decoration-color: #00af00\">0</span> │\n",
              "├─────────────────────────────────┼────────────────────────┼───────────────┤\n",
              "│ flatten_12 (<span style=\"color: #0087ff; text-decoration-color: #0087ff\">Flatten</span>)            │ (<span style=\"color: #00d7ff; text-decoration-color: #00d7ff\">None</span>, <span style=\"color: #00af00; text-decoration-color: #00af00\">10752</span>)          │             <span style=\"color: #00af00; text-decoration-color: #00af00\">0</span> │\n",
              "├─────────────────────────────────┼────────────────────────┼───────────────┤\n",
              "│ dense_24 (<span style=\"color: #0087ff; text-decoration-color: #0087ff\">Dense</span>)                │ (<span style=\"color: #00d7ff; text-decoration-color: #00d7ff\">None</span>, <span style=\"color: #00af00; text-decoration-color: #00af00\">256</span>)            │     <span style=\"color: #00af00; text-decoration-color: #00af00\">2,752,768</span> │\n",
              "├─────────────────────────────────┼────────────────────────┼───────────────┤\n",
              "│ dropout_12 (<span style=\"color: #0087ff; text-decoration-color: #0087ff\">Dropout</span>)            │ (<span style=\"color: #00d7ff; text-decoration-color: #00d7ff\">None</span>, <span style=\"color: #00af00; text-decoration-color: #00af00\">256</span>)            │             <span style=\"color: #00af00; text-decoration-color: #00af00\">0</span> │\n",
              "├─────────────────────────────────┼────────────────────────┼───────────────┤\n",
              "│ dense_25 (<span style=\"color: #0087ff; text-decoration-color: #0087ff\">Dense</span>)                │ (<span style=\"color: #00d7ff; text-decoration-color: #00d7ff\">None</span>, <span style=\"color: #00af00; text-decoration-color: #00af00\">1</span>)              │           <span style=\"color: #00af00; text-decoration-color: #00af00\">257</span> │\n",
              "└─────────────────────────────────┴────────────────────────┴───────────────┘\n",
              "</pre>\n"
            ],
            "text/plain": [
              "┏━━━━━━━━━━━━━━━━━━━━━━━━━━━━━━━━━┳━━━━━━━━━━━━━━━━━━━━━━━━┳━━━━━━━━━━━━━━━┓\n",
              "┃\u001b[1m \u001b[0m\u001b[1mLayer (type)                   \u001b[0m\u001b[1m \u001b[0m┃\u001b[1m \u001b[0m\u001b[1mOutput Shape          \u001b[0m\u001b[1m \u001b[0m┃\u001b[1m \u001b[0m\u001b[1m      Param #\u001b[0m\u001b[1m \u001b[0m┃\n",
              "┡━━━━━━━━━━━━━━━━━━━━━━━━━━━━━━━━━╇━━━━━━━━━━━━━━━━━━━━━━━━╇━━━━━━━━━━━━━━━┩\n",
              "│ conv2d_36 (\u001b[38;5;33mConv2D\u001b[0m)              │ (\u001b[38;5;45mNone\u001b[0m, \u001b[38;5;34m126\u001b[0m, \u001b[38;5;34m62\u001b[0m, \u001b[38;5;34m64\u001b[0m)    │         \u001b[38;5;34m1,792\u001b[0m │\n",
              "├─────────────────────────────────┼────────────────────────┼───────────────┤\n",
              "│ max_pooling2d_36 (\u001b[38;5;33mMaxPooling2D\u001b[0m) │ (\u001b[38;5;45mNone\u001b[0m, \u001b[38;5;34m63\u001b[0m, \u001b[38;5;34m31\u001b[0m, \u001b[38;5;34m64\u001b[0m)     │             \u001b[38;5;34m0\u001b[0m │\n",
              "├─────────────────────────────────┼────────────────────────┼───────────────┤\n",
              "│ conv2d_37 (\u001b[38;5;33mConv2D\u001b[0m)              │ (\u001b[38;5;45mNone\u001b[0m, \u001b[38;5;34m61\u001b[0m, \u001b[38;5;34m29\u001b[0m, \u001b[38;5;34m64\u001b[0m)     │        \u001b[38;5;34m36,928\u001b[0m │\n",
              "├─────────────────────────────────┼────────────────────────┼───────────────┤\n",
              "│ max_pooling2d_37 (\u001b[38;5;33mMaxPooling2D\u001b[0m) │ (\u001b[38;5;45mNone\u001b[0m, \u001b[38;5;34m30\u001b[0m, \u001b[38;5;34m14\u001b[0m, \u001b[38;5;34m64\u001b[0m)     │             \u001b[38;5;34m0\u001b[0m │\n",
              "├─────────────────────────────────┼────────────────────────┼───────────────┤\n",
              "│ conv2d_38 (\u001b[38;5;33mConv2D\u001b[0m)              │ (\u001b[38;5;45mNone\u001b[0m, \u001b[38;5;34m28\u001b[0m, \u001b[38;5;34m12\u001b[0m, \u001b[38;5;34m128\u001b[0m)    │        \u001b[38;5;34m73,856\u001b[0m │\n",
              "├─────────────────────────────────┼────────────────────────┼───────────────┤\n",
              "│ max_pooling2d_38 (\u001b[38;5;33mMaxPooling2D\u001b[0m) │ (\u001b[38;5;45mNone\u001b[0m, \u001b[38;5;34m14\u001b[0m, \u001b[38;5;34m6\u001b[0m, \u001b[38;5;34m128\u001b[0m)     │             \u001b[38;5;34m0\u001b[0m │\n",
              "├─────────────────────────────────┼────────────────────────┼───────────────┤\n",
              "│ flatten_12 (\u001b[38;5;33mFlatten\u001b[0m)            │ (\u001b[38;5;45mNone\u001b[0m, \u001b[38;5;34m10752\u001b[0m)          │             \u001b[38;5;34m0\u001b[0m │\n",
              "├─────────────────────────────────┼────────────────────────┼───────────────┤\n",
              "│ dense_24 (\u001b[38;5;33mDense\u001b[0m)                │ (\u001b[38;5;45mNone\u001b[0m, \u001b[38;5;34m256\u001b[0m)            │     \u001b[38;5;34m2,752,768\u001b[0m │\n",
              "├─────────────────────────────────┼────────────────────────┼───────────────┤\n",
              "│ dropout_12 (\u001b[38;5;33mDropout\u001b[0m)            │ (\u001b[38;5;45mNone\u001b[0m, \u001b[38;5;34m256\u001b[0m)            │             \u001b[38;5;34m0\u001b[0m │\n",
              "├─────────────────────────────────┼────────────────────────┼───────────────┤\n",
              "│ dense_25 (\u001b[38;5;33mDense\u001b[0m)                │ (\u001b[38;5;45mNone\u001b[0m, \u001b[38;5;34m1\u001b[0m)              │           \u001b[38;5;34m257\u001b[0m │\n",
              "└─────────────────────────────────┴────────────────────────┴───────────────┘\n"
            ]
          },
          "metadata": {},
          "output_type": "display_data"
        },
        {
          "data": {
            "text/html": [
              "<pre style=\"white-space:pre;overflow-x:auto;line-height:normal;font-family:Menlo,'DejaVu Sans Mono',consolas,'Courier New',monospace\"><span style=\"font-weight: bold\"> Total params: </span><span style=\"color: #00af00; text-decoration-color: #00af00\">2,865,601</span> (10.93 MB)\n",
              "</pre>\n"
            ],
            "text/plain": [
              "\u001b[1m Total params: \u001b[0m\u001b[38;5;34m2,865,601\u001b[0m (10.93 MB)\n"
            ]
          },
          "metadata": {},
          "output_type": "display_data"
        },
        {
          "data": {
            "text/html": [
              "<pre style=\"white-space:pre;overflow-x:auto;line-height:normal;font-family:Menlo,'DejaVu Sans Mono',consolas,'Courier New',monospace\"><span style=\"font-weight: bold\"> Trainable params: </span><span style=\"color: #00af00; text-decoration-color: #00af00\">2,865,601</span> (10.93 MB)\n",
              "</pre>\n"
            ],
            "text/plain": [
              "\u001b[1m Trainable params: \u001b[0m\u001b[38;5;34m2,865,601\u001b[0m (10.93 MB)\n"
            ]
          },
          "metadata": {},
          "output_type": "display_data"
        },
        {
          "data": {
            "text/html": [
              "<pre style=\"white-space:pre;overflow-x:auto;line-height:normal;font-family:Menlo,'DejaVu Sans Mono',consolas,'Courier New',monospace\"><span style=\"font-weight: bold\"> Non-trainable params: </span><span style=\"color: #00af00; text-decoration-color: #00af00\">0</span> (0.00 B)\n",
              "</pre>\n"
            ],
            "text/plain": [
              "\u001b[1m Non-trainable params: \u001b[0m\u001b[38;5;34m0\u001b[0m (0.00 B)\n"
            ]
          },
          "metadata": {},
          "output_type": "display_data"
        }
      ],
      "source": [
        "#Resumen del modelo\n",
        "model.summary()"
      ]
    },
    {
      "cell_type": "code",
      "execution_count": 62,
      "metadata": {
        "colab": {
          "base_uri": "https://localhost:8080/"
        },
        "id": "0Bz84ozcIzqT",
        "outputId": "ed62fcfb-9153-4c9c-d519-8c69a6bc1eac"
      },
      "outputs": [
        {
          "name": "stdout",
          "output_type": "stream",
          "text": [
            "Epoch 1/20\n",
            "46/46 - 30s - 659ms/step - loss: 115.2186 - recall: 0.0976 - val_loss: 0.6377 - val_recall: 0.0000e+00 - learning_rate: 0.1000\n",
            "Epoch 2/20\n",
            "46/46 - 27s - 590ms/step - loss: 0.6390 - recall: 0.0000e+00 - val_loss: 0.6375 - val_recall: 0.0000e+00 - learning_rate: 0.1000\n",
            "Epoch 3/20\n",
            "46/46 - 27s - 590ms/step - loss: 0.6393 - recall: 0.0000e+00 - val_loss: 0.6389 - val_recall: 0.0000e+00 - learning_rate: 0.1000\n",
            "Epoch 4/20\n",
            "46/46 - 41s - 889ms/step - loss: 0.6389 - recall: 0.0000e+00 - val_loss: 0.6372 - val_recall: 0.0000e+00 - learning_rate: 0.1000\n",
            "Epoch 5/20\n",
            "46/46 - 27s - 591ms/step - loss: 0.6384 - recall: 0.0000e+00 - val_loss: 0.6387 - val_recall: 0.0000e+00 - learning_rate: 0.1000\n",
            "Epoch 6/20\n",
            "\n",
            "Epoch 6: ReduceLROnPlateau reducing learning rate to 0.05000000074505806.\n",
            "46/46 - 27s - 595ms/step - loss: 0.6394 - recall: 0.0000e+00 - val_loss: 0.6372 - val_recall: 0.0000e+00 - learning_rate: 0.1000\n",
            "Epoch 7/20\n",
            "46/46 - 30s - 643ms/step - loss: 0.6383 - recall: 0.0000e+00 - val_loss: 0.6376 - val_recall: 0.0000e+00 - learning_rate: 0.0500\n"
          ]
        }
      ],
      "source": [
        "# Entrenar el modelo\n",
        "hist = model.fit(train_gen, validation_data=val_gen, verbose = 2, epochs=20, callbacks=[early_stop, reduce_lr], shuffle = 'true')\n"
      ]
    },
    {
      "cell_type": "code",
      "execution_count": 46,
      "metadata": {
        "colab": {
          "base_uri": "https://localhost:8080/",
          "height": 451
        },
        "id": "uvx8N9fabeJd",
        "outputId": "c1d80d69-6ed6-405f-bd37-06b837b6ad32"
      },
      "outputs": [
        {
          "data": {
            "image/png": "[encoded data removed]",
            "text/plain": [
              "<Figure size 640x480 with 1 Axes>"
            ]
          },
          "metadata": {},
          "output_type": "display_data"
        }
      ],
      "source": [
        "#Graficar error y exactitud del modelo\n",
        "plt.plot(hist.history['recall'])\n",
        "plt.legend(['Exactitud'])\n",
        "plt.xlabel('Épocas')\n",
        "plt.ylabel('Exactitud')\n",
        "plt.show()"
      ]
    },
    {
      "cell_type": "code",
      "execution_count": 47,
      "metadata": {
        "colab": {
          "base_uri": "https://localhost:8080/",
          "height": 474
        },
        "id": "qLKS2B69cHKQ",
        "outputId": "4b8538f4-0364-486d-c2f0-42d57230ce5c"
      },
      "outputs": [
        {
          "data": {
            "image/png": "[encoded data removed]",
            "text/plain": [
              "<Figure size 640x480 with 1 Axes>"
            ]
          },
          "metadata": {},
          "output_type": "display_data"
        }
      ],
      "source": [
        "plt.plot(hist.history['loss'])\n",
        "plt.legend(['Error'])\n",
        "plt.title('Error del modelo')\n",
        "plt.xlabel('Épocas')\n",
        "plt.show()"
      ]
    },
    {
      "cell_type": "code",
      "execution_count": 48,
      "metadata": {
        "colab": {
          "base_uri": "https://localhost:8080/",
          "height": 524
        },
        "id": "IajGI5Xe-ThY",
        "outputId": "f0944e79-9a0b-4fae-d0ef-5f3da8501604"
      },
      "outputs": [
        {
          "name": "stdout",
          "output_type": "stream",
          "text": [
            "\u001b[1m12/12\u001b[0m \u001b[32m━━━━━━━━━━━━━━━━━━━━\u001b[0m\u001b[37m\u001b[0m \u001b[1m1s\u001b[0m 76ms/step\n",
            "\u001b[1m12/12\u001b[0m \u001b[32m━━━━━━━━━━━━━━━━━━━━\u001b[0m\u001b[37m\u001b[0m \u001b[1m1s\u001b[0m 70ms/step - loss: 0.6311 - recall: 0.0000e+00\n",
            "Precisión en test: 0.0000, Pérdida: 0.6371\n"
          ]
        },
        {
          "data": {
            "image/png": "[encoded data removed]",
            "text/plain": [
              "<Figure size 640x480 with 2 Axes>"
            ]
          },
          "metadata": {},
          "output_type": "display_data"
        }
      ],
      "source": [
        "# Listas para almacenar todas las imágenes y etiquetas\n",
        "X_test = []\n",
        "y_test = []\n",
        "\n",
        "# Calculamos cuántos batchs hay en total en val_gen\n",
        "num_batches = int(np.ceil(val_gen.samples / val_gen.batch_size))\n",
        "\n",
        "# Recorremos todos los lotes del generador de validación\n",
        "for _ in range(num_batches):\n",
        "    x_batch, y_batch = next(val_gen) # Obtenemos un lote de imágenes y etiquetas\n",
        "    X_test.extend(x_batch)          # Agregamos las imágenes a la lista\n",
        "    y_test.extend(y_batch)\n",
        "\n",
        "# Convertimos las listas a arreglos\n",
        "X_test = np.array(X_test)\n",
        "y_test = np.array(y_test)\n",
        "\n",
        "# Predecir las clases\n",
        "y_predict = (model.predict(X_test) > 0.5).astype(int).flatten()\n",
        "\n",
        "# Evaluar en conjunto de prueba\n",
        "loss, acc = model.evaluate(X_test, y_test)\n",
        "print(f\"Precisión en test: {acc:.4f}, Pérdida: {loss:.4f}\")\n",
        "\n",
        "# Matriz de confusión\n",
        "cm = confusion_matrix(y_test, y_predict)\n",
        "\n",
        "disp = ConfusionMatrixDisplay(confusion_matrix=cm, display_labels=val_gen.class_indices.keys())\n",
        "disp.plot(cmap=plt.cm.Blues)\n",
        "plt.title(\"Matriz de Confusión\")\n",
        "plt.show()\n"
      ]
    }
  ],
  "metadata": {
    "accelerator": "GPU",
    "colab": {
      "gpuType": "T4",
      "provenance": []
    },
    "kernelspec": {
      "display_name": "Python 3",
      "name": "python3"
    },
    "language_info": {
      "codemirror_mode": {
        "name": "ipython",
        "version": 3
      },
      "file_extension": ".py",
      "mimetype": "text/x-python",
      "name": "python",
      "nbconvert_exporter": "python",
      "pygments_lexer": "ipython3",
      "version": "3.12.1"
    }
  },
  "nbformat": 4,
  "nbformat_minor": 0
}
