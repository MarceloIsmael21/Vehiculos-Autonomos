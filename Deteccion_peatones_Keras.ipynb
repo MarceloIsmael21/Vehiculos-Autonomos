{
  "cells": [
    {
      "cell_type": "code",
      "execution_count": 3,
      "metadata": {
        "colab": {
          "base_uri": "https://localhost:8080/"
        },
        "id": "M1mYb5Cd3E-R",
        "outputId": "5cc336f3-337c-4c8f-bccc-bd2a3c91ef70"
      },
      "outputs": [
        {
          "ename": "ModuleNotFoundError",
          "evalue": "No module named 'google'",
          "output_type": "error",
          "traceback": [
            "\u001b[31m---------------------------------------------------------------------------\u001b[39m",
            "\u001b[31mModuleNotFoundError\u001b[39m                       Traceback (most recent call last)",
            "\u001b[36mCell\u001b[39m\u001b[36m \u001b[39m\u001b[32mIn[3]\u001b[39m\u001b[32m, line 2\u001b[39m\n\u001b[32m      1\u001b[39m \u001b[38;5;66;03m# Montar Google Drive para acceder al dataset\u001b[39;00m\n\u001b[32m----> \u001b[39m\u001b[32m2\u001b[39m \u001b[38;5;28;01mfrom\u001b[39;00m\u001b[38;5;250m \u001b[39m\u001b[34;01mgoogle\u001b[39;00m\u001b[34;01m.\u001b[39;00m\u001b[34;01mcolab\u001b[39;00m\u001b[38;5;250m \u001b[39m\u001b[38;5;28;01mimport\u001b[39;00m drive\n\u001b[32m      3\u001b[39m drive.mount(\u001b[33m'\u001b[39m\u001b[33m/content/drive\u001b[39m\u001b[33m'\u001b[39m)\n\u001b[32m      5\u001b[39m data_dir = \u001b[33m'\u001b[39m\u001b[33m/content/drive/MyDrive/MNA/Colab Notebooks/MNA/Navegacion autonoma/Actividad 4.1 - Deteccion de Peatones con Keras/Train pics\u001b[39m\u001b[33m'\u001b[39m\n",
            "\u001b[31mModuleNotFoundError\u001b[39m: No module named 'google'"
          ]
        }
      ],
      "source": [
        "# Montar Google Drive para acceder al dataset\n",
        "from google.colab import drive\n",
        "drive.mount('/content/drive')\n",
        "\n",
        "data_dir = '/content/drive/MyDrive/MNA/Colab Notebooks/MNA/Navegacion autonoma/Actividad 4.1 - Deteccion de Peatones con Keras/Train pics'\n",
        "\n"
      ]
    },
    {
      "cell_type": "code",
      "execution_count": 1,
      "metadata": {},
      "outputs": [
        {
          "name": "stderr",
          "output_type": "stream",
          "text": [
            "2025-06-09 01:22:24.440912: I external/local_xla/xla/tsl/cuda/cudart_stub.cc:32] Could not find cuda drivers on your machine, GPU will not be used.\n",
            "2025-06-09 01:22:24.669336: I external/local_xla/xla/tsl/cuda/cudart_stub.cc:32] Could not find cuda drivers on your machine, GPU will not be used.\n",
            "2025-06-09 01:22:24.804199: E external/local_xla/xla/stream_executor/cuda/cuda_fft.cc:467] Unable to register cuFFT factory: Attempting to register factory for plugin cuFFT when one has already been registered\n",
            "WARNING: All log messages before absl::InitializeLog() is called are written to STDERR\n",
            "E0000 00:00:1749432145.110992   31178 cuda_dnn.cc:8579] Unable to register cuDNN factory: Attempting to register factory for plugin cuDNN when one has already been registered\n",
            "E0000 00:00:1749432145.205830   31178 cuda_blas.cc:1407] Unable to register cuBLAS factory: Attempting to register factory for plugin cuBLAS when one has already been registered\n",
            "W0000 00:00:1749432145.855402   31178 computation_placer.cc:177] computation placer already registered. Please check linkage and avoid linking the same target more than once.\n",
            "W0000 00:00:1749432145.855439   31178 computation_placer.cc:177] computation placer already registered. Please check linkage and avoid linking the same target more than once.\n",
            "W0000 00:00:1749432145.855442   31178 computation_placer.cc:177] computation placer already registered. Please check linkage and avoid linking the same target more than once.\n",
            "W0000 00:00:1749432145.855446   31178 computation_placer.cc:177] computation placer already registered. Please check linkage and avoid linking the same target more than once.\n",
            "2025-06-09 01:22:25.901643: I tensorflow/core/platform/cpu_feature_guard.cc:210] This TensorFlow binary is optimized to use available CPU instructions in performance-critical operations.\n",
            "To enable the following instructions: AVX2 FMA, in other operations, rebuild TensorFlow with the appropriate compiler flags.\n"
          ]
        },
        {
          "name": "stdout",
          "output_type": "stream",
          "text": [
            "Num GPUs Available: 0\n"
          ]
        },
        {
          "name": "stderr",
          "output_type": "stream",
          "text": [
            "2025-06-09 01:22:31.832991: E external/local_xla/xla/stream_executor/cuda/cuda_platform.cc:51] failed call to cuInit: INTERNAL: CUDA error: Failed call to cuInit: UNKNOWN ERROR (303)\n"
          ]
        }
      ],
      "source": [
        "import tensorflow as tf\n",
        "print(\"Num GPUs Available:\", len(tf.config.list_physical_devices('GPU')))"
      ]
    },
    {
      "cell_type": "code",
      "execution_count": 1,
      "metadata": {},
      "outputs": [],
      "source": [
        "data_dir='INRIA_Person/'"
      ]
    },
    {
      "cell_type": "code",
      "execution_count": 2,
      "metadata": {
        "id": "5Uw7iZVkyuIa"
      },
      "outputs": [
        {
          "name": "stderr",
          "output_type": "stream",
          "text": [
            "2025-06-08 23:57:14.828960: I external/local_xla/xla/tsl/cuda/cudart_stub.cc:32] Could not find cuda drivers on your machine, GPU will not be used.\n",
            "2025-06-08 23:57:17.023499: I external/local_xla/xla/tsl/cuda/cudart_stub.cc:32] Could not find cuda drivers on your machine, GPU will not be used.\n",
            "2025-06-08 23:57:17.295049: E external/local_xla/xla/stream_executor/cuda/cuda_fft.cc:467] Unable to register cuFFT factory: Attempting to register factory for plugin cuFFT when one has already been registered\n",
            "WARNING: All log messages before absl::InitializeLog() is called are written to STDERR\n",
            "E0000 00:00:1749427039.883212    2176 cuda_dnn.cc:8579] Unable to register cuDNN factory: Attempting to register factory for plugin cuDNN when one has already been registered\n",
            "E0000 00:00:1749427041.311444    2176 cuda_blas.cc:1407] Unable to register cuBLAS factory: Attempting to register factory for plugin cuBLAS when one has already been registered\n",
            "W0000 00:00:1749427050.960822    2176 computation_placer.cc:177] computation placer already registered. Please check linkage and avoid linking the same target more than once.\n",
            "W0000 00:00:1749427050.960857    2176 computation_placer.cc:177] computation placer already registered. Please check linkage and avoid linking the same target more than once.\n",
            "W0000 00:00:1749427050.960860    2176 computation_placer.cc:177] computation placer already registered. Please check linkage and avoid linking the same target more than once.\n",
            "W0000 00:00:1749427050.960863    2176 computation_placer.cc:177] computation placer already registered. Please check linkage and avoid linking the same target more than once.\n",
            "2025-06-08 23:57:31.605805: I tensorflow/core/platform/cpu_feature_guard.cc:210] This TensorFlow binary is optimized to use available CPU instructions in performance-critical operations.\n",
            "To enable the following instructions: AVX2 FMA, in other operations, rebuild TensorFlow with the appropriate compiler flags.\n"
          ]
        }
      ],
      "source": [
        "# Importar librerías usadas en la aplicación\n",
        "# !pip install keras\n",
        "\n",
        "import numpy as np\n",
        "from sklearn.metrics import confusion_matrix, ConfusionMatrixDisplay\n",
        "import matplotlib.pyplot as plt\n",
        "import keras #Para construir redes neuronales\n",
        "from keras.models import Sequential #Modelo secuencial\n",
        "from keras.layers import Conv2D, MaxPooling2D, Flatten, Dense, Dropout #Dense para capas conectadas y Flatten para aplanar la entrada\n",
        "from keras.optimizers import Adam #Optimizador Adam\n",
        "import keras_metrics\n",
        "import matplotlib.pyplot as plt\n",
        "from tensorflow.keras.callbacks import EarlyStopping, ReduceLROnPlateau\n",
        "from tensorflow.keras.preprocessing.image import ImageDataGenerator #Cargar y procesar imagenes desde carpetas.\n",
        "                                                                    #Se utiliza Tensorflow porque en versiones modernas de Keras, ImageDataGenerator\n",
        "                                                                    #ya no se importa desde Keras, se debe importar ahora desde tensorflow.keras"
      ]
    },
    {
      "cell_type": "code",
      "execution_count": 3,
      "metadata": {
        "colab": {
          "base_uri": "https://localhost:8080/"
        },
        "id": "VQB2VYLb7Bdm",
        "outputId": "3ef420c7-9b9f-46b0-b410-3af1bf33747e"
      },
      "outputs": [
        {
          "name": "stdout",
          "output_type": "stream",
          "text": [
            "Found 1467 images belonging to 2 classes.\n",
            "Found 365 images belonging to 2 classes.\n"
          ]
        }
      ],
      "source": [
        "# # Normalización y división de entrenamiento/validación\n",
        "# datagen = ImageDataGenerator(rescale=1./255, validation_split=0.2)\n",
        "\n",
        "# # Crear generador para entrenamiento\n",
        "# train_gen = datagen.flow_from_directory(\n",
        "#     data_dir,               #Dirección a las imágenes\n",
        "#     target_size=(64, 128),  # Tamaño al que se redimensionan las imágenes\n",
        "#     batch_size=32,          # Agrupa las imagenes en paquetes de 32 para ser procesadas en paquetes\n",
        "#     class_mode='binary',  # Salida binaria\n",
        "#     subset='training'  # Usa el 80% para entrenamiento\n",
        "# )\n",
        "\n",
        "# # Crear generador para validación\n",
        "# val_gen = datagen.flow_from_directory(\n",
        "#     data_dir,\n",
        "#     target_size=(64, 128),\n",
        "#     batch_size=32,\n",
        "#     class_mode='binary',\n",
        "#     subset='validation'  # Usa el 20% para validación\n",
        "# )\n",
        "\n",
        "\n",
        "# Data augmentation + normalización para entrenamiento\n",
        "train_datagen = ImageDataGenerator(\n",
        "    rescale=1./255,          # Normaliza los pixeles a [0,1]\n",
        "    validation_split=0.2,    # Divide el dataset en entrenamiento y validación\n",
        "    rotation_range=10,       # Rota imágenes hasta 10 grados para variedad\n",
        "    width_shift_range=0.1,   # Desplaza horizontalmente hasta 10%\n",
        "    height_shift_range=0.1,  # Desplaza verticalmente hasta 10%\n",
        "    zoom_range=0.1,          # Zoom aleatorio hasta 10%\n",
        "    horizontal_flip=True     # Voltea horizontalmente (solo si aplica a tu problema)\n",
        ")\n",
        "\n",
        "# Solo normalización para validación (sin augmentations)\n",
        "val_datagen = ImageDataGenerator(\n",
        "    rescale=1./255,\n",
        "    validation_split=0.2\n",
        ")\n",
        "\n",
        "# Generador para entrenamiento usando augmentations\n",
        "train_gen = train_datagen.flow_from_directory(\n",
        "    data_dir,               # Carpeta con imágenes organizadas en subcarpetas por clase\n",
        "    target_size=(64, 128),  # Redimensiona imágenes a 64x128 (ancho x alto)\n",
        "    batch_size=32,          # Procesa en lotes de 32 imágenes\n",
        "    class_mode='binary',    # Clasificación binaria\n",
        "    subset='training'       # Usa el 80% para entrenamiento\n",
        ")\n",
        "\n",
        "# Generador para validación sin augmentations\n",
        "val_gen = val_datagen.flow_from_directory(\n",
        "    data_dir,\n",
        "    target_size=(64, 128),\n",
        "    batch_size=32,\n",
        "    class_mode='binary',\n",
        "    subset='validation'     # Usa el 20% para validación\n",
        ")"
      ]
    },
    {
      "cell_type": "code",
      "execution_count": 4,
      "metadata": {
        "colab": {
          "base_uri": "https://localhost:8080/"
        },
        "id": "YGq9lxAMCiJt",
        "outputId": "02332169-8469-4ece-c19d-534d4049ca88"
      },
      "outputs": [
        {
          "name": "stdout",
          "output_type": "stream",
          "text": [
            "Imágenes en entrenamiento: 1467\n",
            "Imágenes en validación: 365\n",
            "Clases: {'neg': 0, 'pos': 1}\n"
          ]
        }
      ],
      "source": [
        "print(f\"Imágenes en entrenamiento: {train_gen.samples}\")\n",
        "print(f\"Imágenes en validación: {val_gen.samples}\")\n",
        "print(f\"Clases: {train_gen.class_indices}\")"
      ]
    },
    {
      "cell_type": "code",
      "execution_count": 5,
      "metadata": {
        "colab": {
          "base_uri": "https://localhost:8080/"
        },
        "id": "0QOMHDTjDatC",
        "outputId": "862e6bba-2784-4fb8-a80b-e83cbf369281"
      },
      "outputs": [
        {
          "name": "stderr",
          "output_type": "stream",
          "text": [
            "/usr/local/python/3.12.1/lib/python3.12/site-packages/keras/src/layers/convolutional/base_conv.py:113: UserWarning: Do not pass an `input_shape`/`input_dim` argument to a layer. When using Sequential models, prefer using an `Input(shape)` object as the first layer in the model instead.\n",
            "  super().__init__(activity_regularizer=activity_regularizer, **kwargs)\n",
            "2025-06-08 23:58:08.670284: E external/local_xla/xla/stream_executor/cuda/cuda_platform.cc:51] failed call to cuInit: INTERNAL: CUDA error: Failed call to cuInit: UNKNOWN ERROR (303)\n"
          ]
        }
      ],
      "source": [
        "# Crear modelo secuencial CNN\n",
        "model = Sequential()\n",
        "# # Aplanar la imagen de entrada (64x128x3 - vector)\n",
        "# model.add(Flatten(input_shape=(128, 64, 3)))  # alto=128, ancho=64, canales=3 - 24,576 entradas\n",
        "\n",
        "#Primera capa convolucional\n",
        "model.add(Conv2D(256, (3, 3), activation='linear', input_shape=(128, 64, 3)))  # Filtros 3x3\n",
        "model.add(MaxPooling2D(pool_size=(2, 2)))  # Reduce tamaño espacial a la mitad\n",
        "\n",
        "#Segunda capa convolucional\n",
        "model.add(Conv2D(64, (3, 3), activation='sigmoid'))\n",
        "model.add(MaxPooling2D(pool_size=(2, 2)))\n",
        "\n",
        "#Tercera capa convolucional\n",
        "model.add(Conv2D(128, (3, 3), activation='sigmoid'))\n",
        "model.add(MaxPooling2D(pool_size=(2, 2)))\n",
        "\n",
        "# Aplanar para conectar con capas densas\n",
        "model.add(Flatten())\n",
        "\n",
        "# Capa oculta totalmente conectada con Dropout para regularización\n",
        "model.add(Dense(256, activation='relu'))\n",
        "model.add(Dropout(0.4))\n",
        "\n",
        "model.add(Dense(1, activation='sigmoid')) # Capa de salida: clasificación binaria\n",
        "\n",
        "# Callbacks: parada temprana y reducción del LR si no mejora\n",
        "early_stop = EarlyStopping(monitor='val_loss', patience=30, restore_best_weights=True)\n",
        "reduce_lr = ReduceLROnPlateau(monitor='val_loss', factor=0.5, patience=20, verbose=1)\n",
        "\n",
        "# Compilar el modelo\n",
        "#model.compile(optimizer=Adam(learning_rate = 0.0001), loss='binary_crossentropy', metrics=['recall'])\n",
        "#model.compile(optimizer=\"adamax\", loss='binary_crossentropy', metrics=['precision'])\n",
        "model.compile(optimizer='adam',\n",
        "              loss=keras.losses.BinaryCrossentropy(from_logits=True),\n",
        "              metrics=[keras.metrics.Recall(thresholds=0),'precision'])\n"
      ]
    },
    {
      "cell_type": "code",
      "execution_count": 6,
      "metadata": {
        "colab": {
          "base_uri": "https://localhost:8080/",
          "height": 476
        },
        "id": "Xts8abcgbV64",
        "outputId": "68d9486d-df9d-4686-9fb8-78bbfc134f9e"
      },
      "outputs": [
        {
          "data": {
            "text/html": [
              "<pre style=\"white-space:pre;overflow-x:auto;line-height:normal;font-family:Menlo,'DejaVu Sans Mono',consolas,'Courier New',monospace\"><span style=\"font-weight: bold\">Model: \"sequential\"</span>\n",
              "</pre>\n"
            ],
            "text/plain": [
              "\u001b[1mModel: \"sequential\"\u001b[0m\n"
            ]
          },
          "metadata": {},
          "output_type": "display_data"
        },
        {
          "data": {
            "text/html": [
              "<pre style=\"white-space:pre;overflow-x:auto;line-height:normal;font-family:Menlo,'DejaVu Sans Mono',consolas,'Courier New',monospace\">┏━━━━━━━━━━━━━━━━━━━━━━━━━━━━━━━━━┳━━━━━━━━━━━━━━━━━━━━━━━━┳━━━━━━━━━━━━━━━┓\n",
              "┃<span style=\"font-weight: bold\"> Layer (type)                    </span>┃<span style=\"font-weight: bold\"> Output Shape           </span>┃<span style=\"font-weight: bold\">       Param # </span>┃\n",
              "┡━━━━━━━━━━━━━━━━━━━━━━━━━━━━━━━━━╇━━━━━━━━━━━━━━━━━━━━━━━━╇━━━━━━━━━━━━━━━┩\n",
              "│ conv2d (<span style=\"color: #0087ff; text-decoration-color: #0087ff\">Conv2D</span>)                 │ (<span style=\"color: #00d7ff; text-decoration-color: #00d7ff\">None</span>, <span style=\"color: #00af00; text-decoration-color: #00af00\">126</span>, <span style=\"color: #00af00; text-decoration-color: #00af00\">62</span>, <span style=\"color: #00af00; text-decoration-color: #00af00\">256</span>)   │         <span style=\"color: #00af00; text-decoration-color: #00af00\">7,168</span> │\n",
              "├─────────────────────────────────┼────────────────────────┼───────────────┤\n",
              "│ max_pooling2d (<span style=\"color: #0087ff; text-decoration-color: #0087ff\">MaxPooling2D</span>)    │ (<span style=\"color: #00d7ff; text-decoration-color: #00d7ff\">None</span>, <span style=\"color: #00af00; text-decoration-color: #00af00\">63</span>, <span style=\"color: #00af00; text-decoration-color: #00af00\">31</span>, <span style=\"color: #00af00; text-decoration-color: #00af00\">256</span>)    │             <span style=\"color: #00af00; text-decoration-color: #00af00\">0</span> │\n",
              "├─────────────────────────────────┼────────────────────────┼───────────────┤\n",
              "│ conv2d_1 (<span style=\"color: #0087ff; text-decoration-color: #0087ff\">Conv2D</span>)               │ (<span style=\"color: #00d7ff; text-decoration-color: #00d7ff\">None</span>, <span style=\"color: #00af00; text-decoration-color: #00af00\">61</span>, <span style=\"color: #00af00; text-decoration-color: #00af00\">29</span>, <span style=\"color: #00af00; text-decoration-color: #00af00\">64</span>)     │       <span style=\"color: #00af00; text-decoration-color: #00af00\">147,520</span> │\n",
              "├─────────────────────────────────┼────────────────────────┼───────────────┤\n",
              "│ max_pooling2d_1 (<span style=\"color: #0087ff; text-decoration-color: #0087ff\">MaxPooling2D</span>)  │ (<span style=\"color: #00d7ff; text-decoration-color: #00d7ff\">None</span>, <span style=\"color: #00af00; text-decoration-color: #00af00\">30</span>, <span style=\"color: #00af00; text-decoration-color: #00af00\">14</span>, <span style=\"color: #00af00; text-decoration-color: #00af00\">64</span>)     │             <span style=\"color: #00af00; text-decoration-color: #00af00\">0</span> │\n",
              "├─────────────────────────────────┼────────────────────────┼───────────────┤\n",
              "│ conv2d_2 (<span style=\"color: #0087ff; text-decoration-color: #0087ff\">Conv2D</span>)               │ (<span style=\"color: #00d7ff; text-decoration-color: #00d7ff\">None</span>, <span style=\"color: #00af00; text-decoration-color: #00af00\">28</span>, <span style=\"color: #00af00; text-decoration-color: #00af00\">12</span>, <span style=\"color: #00af00; text-decoration-color: #00af00\">128</span>)    │        <span style=\"color: #00af00; text-decoration-color: #00af00\">73,856</span> │\n",
              "├─────────────────────────────────┼────────────────────────┼───────────────┤\n",
              "│ max_pooling2d_2 (<span style=\"color: #0087ff; text-decoration-color: #0087ff\">MaxPooling2D</span>)  │ (<span style=\"color: #00d7ff; text-decoration-color: #00d7ff\">None</span>, <span style=\"color: #00af00; text-decoration-color: #00af00\">14</span>, <span style=\"color: #00af00; text-decoration-color: #00af00\">6</span>, <span style=\"color: #00af00; text-decoration-color: #00af00\">128</span>)     │             <span style=\"color: #00af00; text-decoration-color: #00af00\">0</span> │\n",
              "├─────────────────────────────────┼────────────────────────┼───────────────┤\n",
              "│ flatten (<span style=\"color: #0087ff; text-decoration-color: #0087ff\">Flatten</span>)               │ (<span style=\"color: #00d7ff; text-decoration-color: #00d7ff\">None</span>, <span style=\"color: #00af00; text-decoration-color: #00af00\">10752</span>)          │             <span style=\"color: #00af00; text-decoration-color: #00af00\">0</span> │\n",
              "├─────────────────────────────────┼────────────────────────┼───────────────┤\n",
              "│ dense (<span style=\"color: #0087ff; text-decoration-color: #0087ff\">Dense</span>)                   │ (<span style=\"color: #00d7ff; text-decoration-color: #00d7ff\">None</span>, <span style=\"color: #00af00; text-decoration-color: #00af00\">256</span>)            │     <span style=\"color: #00af00; text-decoration-color: #00af00\">2,752,768</span> │\n",
              "├─────────────────────────────────┼────────────────────────┼───────────────┤\n",
              "│ dropout (<span style=\"color: #0087ff; text-decoration-color: #0087ff\">Dropout</span>)               │ (<span style=\"color: #00d7ff; text-decoration-color: #00d7ff\">None</span>, <span style=\"color: #00af00; text-decoration-color: #00af00\">256</span>)            │             <span style=\"color: #00af00; text-decoration-color: #00af00\">0</span> │\n",
              "├─────────────────────────────────┼────────────────────────┼───────────────┤\n",
              "│ dense_1 (<span style=\"color: #0087ff; text-decoration-color: #0087ff\">Dense</span>)                 │ (<span style=\"color: #00d7ff; text-decoration-color: #00d7ff\">None</span>, <span style=\"color: #00af00; text-decoration-color: #00af00\">1</span>)              │           <span style=\"color: #00af00; text-decoration-color: #00af00\">257</span> │\n",
              "└─────────────────────────────────┴────────────────────────┴───────────────┘\n",
              "</pre>\n"
            ],
            "text/plain": [
              "┏━━━━━━━━━━━━━━━━━━━━━━━━━━━━━━━━━┳━━━━━━━━━━━━━━━━━━━━━━━━┳━━━━━━━━━━━━━━━┓\n",
              "┃\u001b[1m \u001b[0m\u001b[1mLayer (type)                   \u001b[0m\u001b[1m \u001b[0m┃\u001b[1m \u001b[0m\u001b[1mOutput Shape          \u001b[0m\u001b[1m \u001b[0m┃\u001b[1m \u001b[0m\u001b[1m      Param #\u001b[0m\u001b[1m \u001b[0m┃\n",
              "┡━━━━━━━━━━━━━━━━━━━━━━━━━━━━━━━━━╇━━━━━━━━━━━━━━━━━━━━━━━━╇━━━━━━━━━━━━━━━┩\n",
              "│ conv2d (\u001b[38;5;33mConv2D\u001b[0m)                 │ (\u001b[38;5;45mNone\u001b[0m, \u001b[38;5;34m126\u001b[0m, \u001b[38;5;34m62\u001b[0m, \u001b[38;5;34m256\u001b[0m)   │         \u001b[38;5;34m7,168\u001b[0m │\n",
              "├─────────────────────────────────┼────────────────────────┼───────────────┤\n",
              "│ max_pooling2d (\u001b[38;5;33mMaxPooling2D\u001b[0m)    │ (\u001b[38;5;45mNone\u001b[0m, \u001b[38;5;34m63\u001b[0m, \u001b[38;5;34m31\u001b[0m, \u001b[38;5;34m256\u001b[0m)    │             \u001b[38;5;34m0\u001b[0m │\n",
              "├─────────────────────────────────┼────────────────────────┼───────────────┤\n",
              "│ conv2d_1 (\u001b[38;5;33mConv2D\u001b[0m)               │ (\u001b[38;5;45mNone\u001b[0m, \u001b[38;5;34m61\u001b[0m, \u001b[38;5;34m29\u001b[0m, \u001b[38;5;34m64\u001b[0m)     │       \u001b[38;5;34m147,520\u001b[0m │\n",
              "├─────────────────────────────────┼────────────────────────┼───────────────┤\n",
              "│ max_pooling2d_1 (\u001b[38;5;33mMaxPooling2D\u001b[0m)  │ (\u001b[38;5;45mNone\u001b[0m, \u001b[38;5;34m30\u001b[0m, \u001b[38;5;34m14\u001b[0m, \u001b[38;5;34m64\u001b[0m)     │             \u001b[38;5;34m0\u001b[0m │\n",
              "├─────────────────────────────────┼────────────────────────┼───────────────┤\n",
              "│ conv2d_2 (\u001b[38;5;33mConv2D\u001b[0m)               │ (\u001b[38;5;45mNone\u001b[0m, \u001b[38;5;34m28\u001b[0m, \u001b[38;5;34m12\u001b[0m, \u001b[38;5;34m128\u001b[0m)    │        \u001b[38;5;34m73,856\u001b[0m │\n",
              "├─────────────────────────────────┼────────────────────────┼───────────────┤\n",
              "│ max_pooling2d_2 (\u001b[38;5;33mMaxPooling2D\u001b[0m)  │ (\u001b[38;5;45mNone\u001b[0m, \u001b[38;5;34m14\u001b[0m, \u001b[38;5;34m6\u001b[0m, \u001b[38;5;34m128\u001b[0m)     │             \u001b[38;5;34m0\u001b[0m │\n",
              "├─────────────────────────────────┼────────────────────────┼───────────────┤\n",
              "│ flatten (\u001b[38;5;33mFlatten\u001b[0m)               │ (\u001b[38;5;45mNone\u001b[0m, \u001b[38;5;34m10752\u001b[0m)          │             \u001b[38;5;34m0\u001b[0m │\n",
              "├─────────────────────────────────┼────────────────────────┼───────────────┤\n",
              "│ dense (\u001b[38;5;33mDense\u001b[0m)                   │ (\u001b[38;5;45mNone\u001b[0m, \u001b[38;5;34m256\u001b[0m)            │     \u001b[38;5;34m2,752,768\u001b[0m │\n",
              "├─────────────────────────────────┼────────────────────────┼───────────────┤\n",
              "│ dropout (\u001b[38;5;33mDropout\u001b[0m)               │ (\u001b[38;5;45mNone\u001b[0m, \u001b[38;5;34m256\u001b[0m)            │             \u001b[38;5;34m0\u001b[0m │\n",
              "├─────────────────────────────────┼────────────────────────┼───────────────┤\n",
              "│ dense_1 (\u001b[38;5;33mDense\u001b[0m)                 │ (\u001b[38;5;45mNone\u001b[0m, \u001b[38;5;34m1\u001b[0m)              │           \u001b[38;5;34m257\u001b[0m │\n",
              "└─────────────────────────────────┴────────────────────────┴───────────────┘\n"
            ]
          },
          "metadata": {},
          "output_type": "display_data"
        },
        {
          "data": {
            "text/html": [
              "<pre style=\"white-space:pre;overflow-x:auto;line-height:normal;font-family:Menlo,'DejaVu Sans Mono',consolas,'Courier New',monospace\"><span style=\"font-weight: bold\"> Total params: </span><span style=\"color: #00af00; text-decoration-color: #00af00\">2,981,569</span> (11.37 MB)\n",
              "</pre>\n"
            ],
            "text/plain": [
              "\u001b[1m Total params: \u001b[0m\u001b[38;5;34m2,981,569\u001b[0m (11.37 MB)\n"
            ]
          },
          "metadata": {},
          "output_type": "display_data"
        },
        {
          "data": {
            "text/html": [
              "<pre style=\"white-space:pre;overflow-x:auto;line-height:normal;font-family:Menlo,'DejaVu Sans Mono',consolas,'Courier New',monospace\"><span style=\"font-weight: bold\"> Trainable params: </span><span style=\"color: #00af00; text-decoration-color: #00af00\">2,981,569</span> (11.37 MB)\n",
              "</pre>\n"
            ],
            "text/plain": [
              "\u001b[1m Trainable params: \u001b[0m\u001b[38;5;34m2,981,569\u001b[0m (11.37 MB)\n"
            ]
          },
          "metadata": {},
          "output_type": "display_data"
        },
        {
          "data": {
            "text/html": [
              "<pre style=\"white-space:pre;overflow-x:auto;line-height:normal;font-family:Menlo,'DejaVu Sans Mono',consolas,'Courier New',monospace\"><span style=\"font-weight: bold\"> Non-trainable params: </span><span style=\"color: #00af00; text-decoration-color: #00af00\">0</span> (0.00 B)\n",
              "</pre>\n"
            ],
            "text/plain": [
              "\u001b[1m Non-trainable params: \u001b[0m\u001b[38;5;34m0\u001b[0m (0.00 B)\n"
            ]
          },
          "metadata": {},
          "output_type": "display_data"
        }
      ],
      "source": [
        "#Resumen del modelo\n",
        "model.summary()"
      ]
    },
    {
      "cell_type": "code",
      "execution_count": 7,
      "metadata": {
        "colab": {
          "base_uri": "https://localhost:8080/"
        },
        "id": "0Bz84ozcIzqT",
        "outputId": "ed62fcfb-9153-4c9c-d519-8c69a6bc1eac"
      },
      "outputs": [
        {
          "name": "stderr",
          "output_type": "stream",
          "text": [
            "/usr/local/python/3.12.1/lib/python3.12/site-packages/keras/src/trainers/data_adapters/py_dataset_adapter.py:121: UserWarning: Your `PyDataset` class should call `super().__init__(**kwargs)` in its constructor. `**kwargs` can include `workers`, `use_multiprocessing`, `max_queue_size`. Do not pass these arguments to `fit()`, as they will be ignored.\n",
            "  self._warn_if_super_not_called()\n"
          ]
        },
        {
          "name": "stdout",
          "output_type": "stream",
          "text": [
            "Epoch 1/50\n"
          ]
        },
        {
          "name": "stderr",
          "output_type": "stream",
          "text": [
            "/usr/local/python/3.12.1/lib/python3.12/site-packages/keras/src/backend/tensorflow/nn.py:789: UserWarning: \"`binary_crossentropy` received `from_logits=True`, but the `output` argument was produced by a Sigmoid activation and thus does not represent logits. Was this intended?\n",
            "  output, from_logits = _get_logits(\n",
            "2025-06-08 23:58:35.335483: W external/local_xla/xla/tsl/framework/cpu_allocator_impl.cc:83] Allocation of 255983616 exceeds 10% of free system memory.\n",
            "2025-06-08 23:58:38.909575: W external/local_xla/xla/tsl/framework/cpu_allocator_impl.cc:83] Allocation of 63995904 exceeds 10% of free system memory.\n",
            "2025-06-08 23:58:40.076855: W external/local_xla/xla/tsl/framework/cpu_allocator_impl.cc:83] Allocation of 20127744 exceeds 10% of free system memory.\n",
            "2025-06-08 23:58:40.560373: W external/local_xla/xla/tsl/framework/cpu_allocator_impl.cc:83] Allocation of 32606208 exceeds 10% of free system memory.\n",
            "2025-06-08 23:58:40.562296: W external/local_xla/xla/tsl/framework/cpu_allocator_impl.cc:83] Allocation of 63995904 exceeds 10% of free system memory.\n"
          ]
        },
        {
          "name": "stdout",
          "output_type": "stream",
          "text": [
            "46/46 - 142s - 3s/step - loss: 1.0733 - precision: 0.3023 - recall: 1.0000 - val_loss: 0.6312 - val_precision: 0.0000e+00 - val_recall: 1.0000 - learning_rate: 1.0000e-03\n",
            "Epoch 2/50\n",
            "46/46 - 77s - 2s/step - loss: 0.6278 - precision: 0.0000e+00 - recall: 1.0000 - val_loss: 0.5950 - val_precision: 0.0000e+00 - val_recall: 1.0000 - learning_rate: 1.0000e-03\n",
            "Epoch 3/50\n",
            "46/46 - 70s - 2s/step - loss: 0.5730 - precision: 0.5992 - recall: 1.0000 - val_loss: 0.4434 - val_precision: 0.9074 - val_recall: 1.0000 - learning_rate: 1.0000e-03\n",
            "Epoch 4/50\n",
            "46/46 - 75s - 2s/step - loss: 0.5257 - precision: 0.6273 - recall: 1.0000 - val_loss: 0.4159 - val_precision: 0.8857 - val_recall: 1.0000 - learning_rate: 1.0000e-03\n",
            "Epoch 5/50\n",
            "46/46 - 69s - 2s/step - loss: 0.5066 - precision: 0.6298 - recall: 1.0000 - val_loss: 0.4035 - val_precision: 0.9231 - val_recall: 1.0000 - learning_rate: 1.0000e-03\n",
            "Epoch 6/50\n",
            "46/46 - 69s - 1s/step - loss: 0.4900 - precision: 0.6565 - recall: 1.0000 - val_loss: 0.3748 - val_precision: 0.8557 - val_recall: 1.0000 - learning_rate: 1.0000e-03\n",
            "Epoch 7/50\n",
            "46/46 - 69s - 1s/step - loss: 0.4975 - precision: 0.6430 - recall: 1.0000 - val_loss: 0.3902 - val_precision: 0.9167 - val_recall: 1.0000 - learning_rate: 1.0000e-03\n",
            "Epoch 8/50\n",
            "46/46 - 69s - 1s/step - loss: 0.4931 - precision: 0.6762 - recall: 1.0000 - val_loss: 0.4054 - val_precision: 0.9130 - val_recall: 1.0000 - learning_rate: 1.0000e-03\n",
            "Epoch 9/50\n",
            "46/46 - 69s - 2s/step - loss: 0.4863 - precision: 0.6383 - recall: 1.0000 - val_loss: 0.3519 - val_precision: 0.8864 - val_recall: 1.0000 - learning_rate: 1.0000e-03\n",
            "Epoch 10/50\n",
            "46/46 - 70s - 2s/step - loss: 0.4896 - precision: 0.6401 - recall: 1.0000 - val_loss: 0.4128 - val_precision: 0.9455 - val_recall: 1.0000 - learning_rate: 1.0000e-03\n",
            "Epoch 11/50\n",
            "46/46 - 69s - 2s/step - loss: 0.4804 - precision: 0.6690 - recall: 1.0000 - val_loss: 0.4215 - val_precision: 0.9333 - val_recall: 1.0000 - learning_rate: 1.0000e-03\n",
            "Epoch 12/50\n",
            "46/46 - 69s - 1s/step - loss: 0.4770 - precision: 0.6756 - recall: 1.0000 - val_loss: 0.3508 - val_precision: 0.8667 - val_recall: 1.0000 - learning_rate: 1.0000e-03\n",
            "Epoch 13/50\n",
            "46/46 - 69s - 1s/step - loss: 0.4619 - precision: 0.7033 - recall: 1.0000 - val_loss: 0.3715 - val_precision: 0.8774 - val_recall: 1.0000 - learning_rate: 1.0000e-03\n",
            "Epoch 14/50\n",
            "46/46 - 69s - 1s/step - loss: 0.4349 - precision: 0.6946 - recall: 1.0000 - val_loss: 0.3363 - val_precision: 0.9140 - val_recall: 1.0000 - learning_rate: 1.0000e-03\n",
            "Epoch 15/50\n",
            "46/46 - 68s - 1s/step - loss: 0.4442 - precision: 0.7072 - recall: 1.0000 - val_loss: 0.3370 - val_precision: 0.8673 - val_recall: 1.0000 - learning_rate: 1.0000e-03\n",
            "Epoch 16/50\n",
            "46/46 - 69s - 1s/step - loss: 0.4570 - precision: 0.6870 - recall: 1.0000 - val_loss: 0.3133 - val_precision: 0.9175 - val_recall: 1.0000 - learning_rate: 1.0000e-03\n",
            "Epoch 17/50\n",
            "46/46 - 69s - 1s/step - loss: 0.4634 - precision: 0.6896 - recall: 1.0000 - val_loss: 0.3683 - val_precision: 0.9254 - val_recall: 1.0000 - learning_rate: 1.0000e-03\n",
            "Epoch 18/50\n",
            "46/46 - 69s - 1s/step - loss: 0.4446 - precision: 0.7164 - recall: 1.0000 - val_loss: 0.3505 - val_precision: 0.9459 - val_recall: 1.0000 - learning_rate: 1.0000e-03\n",
            "Epoch 19/50\n",
            "46/46 - 68s - 1s/step - loss: 0.4377 - precision: 0.7090 - recall: 1.0000 - val_loss: 0.3630 - val_precision: 0.9333 - val_recall: 1.0000 - learning_rate: 1.0000e-03\n",
            "Epoch 20/50\n",
            "46/46 - 68s - 1s/step - loss: 0.4373 - precision: 0.7370 - recall: 1.0000 - val_loss: 0.3054 - val_precision: 0.9310 - val_recall: 1.0000 - learning_rate: 1.0000e-03\n",
            "Epoch 21/50\n",
            "46/46 - 68s - 1s/step - loss: 0.4492 - precision: 0.6953 - recall: 1.0000 - val_loss: 0.3821 - val_precision: 0.9492 - val_recall: 1.0000 - learning_rate: 1.0000e-03\n",
            "Epoch 22/50\n",
            "46/46 - 68s - 1s/step - loss: 0.4349 - precision: 0.7117 - recall: 1.0000 - val_loss: 0.3605 - val_precision: 0.9383 - val_recall: 1.0000 - learning_rate: 1.0000e-03\n",
            "Epoch 23/50\n",
            "46/46 - 68s - 1s/step - loss: 0.4356 - precision: 0.7295 - recall: 1.0000 - val_loss: 0.2939 - val_precision: 0.9238 - val_recall: 1.0000 - learning_rate: 1.0000e-03\n",
            "Epoch 24/50\n",
            "46/46 - 69s - 1s/step - loss: 0.4416 - precision: 0.6969 - recall: 1.0000 - val_loss: 0.3007 - val_precision: 0.9231 - val_recall: 1.0000 - learning_rate: 1.0000e-03\n",
            "Epoch 25/50\n",
            "46/46 - 68s - 1s/step - loss: 0.4444 - precision: 0.7297 - recall: 1.0000 - val_loss: 0.3302 - val_precision: 0.9595 - val_recall: 1.0000 - learning_rate: 1.0000e-03\n",
            "Epoch 26/50\n",
            "46/46 - 69s - 1s/step - loss: 0.4357 - precision: 0.7229 - recall: 1.0000 - val_loss: 0.3089 - val_precision: 0.9467 - val_recall: 1.0000 - learning_rate: 1.0000e-03\n",
            "Epoch 27/50\n",
            "46/46 - 69s - 1s/step - loss: 0.4038 - precision: 0.7411 - recall: 1.0000 - val_loss: 0.2925 - val_precision: 0.9610 - val_recall: 1.0000 - learning_rate: 1.0000e-03\n",
            "Epoch 28/50\n",
            "46/46 - 68s - 1s/step - loss: 0.3883 - precision: 0.7432 - recall: 1.0000 - val_loss: 0.2350 - val_precision: 0.8962 - val_recall: 1.0000 - learning_rate: 1.0000e-03\n",
            "Epoch 29/50\n",
            "46/46 - 68s - 1s/step - loss: 0.3993 - precision: 0.7618 - recall: 1.0000 - val_loss: 0.2973 - val_precision: 0.9341 - val_recall: 1.0000 - learning_rate: 1.0000e-03\n",
            "Epoch 30/50\n",
            "46/46 - 68s - 1s/step - loss: 0.4219 - precision: 0.7593 - recall: 1.0000 - val_loss: 0.2842 - val_precision: 0.9405 - val_recall: 1.0000 - learning_rate: 1.0000e-03\n",
            "Epoch 31/50\n",
            "46/46 - 68s - 1s/step - loss: 0.4030 - precision: 0.7310 - recall: 1.0000 - val_loss: 0.3040 - val_precision: 0.9462 - val_recall: 1.0000 - learning_rate: 1.0000e-03\n",
            "Epoch 32/50\n",
            "46/46 - 68s - 1s/step - loss: 0.3858 - precision: 0.7664 - recall: 1.0000 - val_loss: 0.2628 - val_precision: 0.9140 - val_recall: 1.0000 - learning_rate: 1.0000e-03\n",
            "Epoch 33/50\n",
            "46/46 - 68s - 1s/step - loss: 0.3801 - precision: 0.7797 - recall: 1.0000 - val_loss: 0.2570 - val_precision: 0.9451 - val_recall: 1.0000 - learning_rate: 1.0000e-03\n",
            "Epoch 34/50\n",
            "46/46 - 68s - 1s/step - loss: 0.3960 - precision: 0.7648 - recall: 1.0000 - val_loss: 0.2498 - val_precision: 0.9307 - val_recall: 1.0000 - learning_rate: 1.0000e-03\n",
            "Epoch 35/50\n",
            "46/46 - 68s - 1s/step - loss: 0.3810 - precision: 0.7671 - recall: 1.0000 - val_loss: 0.2707 - val_precision: 0.9362 - val_recall: 1.0000 - learning_rate: 1.0000e-03\n",
            "Epoch 36/50\n",
            "46/46 - 68s - 1s/step - loss: 0.3746 - precision: 0.7862 - recall: 1.0000 - val_loss: 0.2665 - val_precision: 0.9759 - val_recall: 1.0000 - learning_rate: 1.0000e-03\n",
            "Epoch 37/50\n",
            "46/46 - 82s - 2s/step - loss: 0.3592 - precision: 0.7651 - recall: 1.0000 - val_loss: 0.2911 - val_precision: 0.9740 - val_recall: 1.0000 - learning_rate: 1.0000e-03\n",
            "Epoch 38/50\n",
            "46/46 - 68s - 1s/step - loss: 0.3284 - precision: 0.8166 - recall: 1.0000 - val_loss: 0.2328 - val_precision: 0.9651 - val_recall: 1.0000 - learning_rate: 1.0000e-03\n",
            "Epoch 39/50\n",
            "46/46 - 68s - 1s/step - loss: 0.3352 - precision: 0.8330 - recall: 1.0000 - val_loss: 0.1982 - val_precision: 0.9273 - val_recall: 1.0000 - learning_rate: 1.0000e-03\n",
            "Epoch 40/50\n",
            "46/46 - 68s - 1s/step - loss: 0.3521 - precision: 0.7889 - recall: 1.0000 - val_loss: 0.2403 - val_precision: 0.9043 - val_recall: 1.0000 - learning_rate: 1.0000e-03\n",
            "Epoch 41/50\n",
            "46/46 - 68s - 1s/step - loss: 0.3424 - precision: 0.7921 - recall: 1.0000 - val_loss: 0.3088 - val_precision: 1.0000 - val_recall: 1.0000 - learning_rate: 1.0000e-03\n",
            "Epoch 42/50\n",
            "46/46 - 68s - 1s/step - loss: 0.3304 - precision: 0.8215 - recall: 1.0000 - val_loss: 0.2086 - val_precision: 0.9406 - val_recall: 1.0000 - learning_rate: 1.0000e-03\n",
            "Epoch 43/50\n",
            "46/46 - 68s - 1s/step - loss: 0.3037 - precision: 0.8130 - recall: 1.0000 - val_loss: 0.2208 - val_precision: 0.9485 - val_recall: 1.0000 - learning_rate: 1.0000e-03\n",
            "Epoch 44/50\n",
            "46/46 - 68s - 1s/step - loss: 0.3042 - precision: 0.8275 - recall: 1.0000 - val_loss: 0.1799 - val_precision: 0.9391 - val_recall: 1.0000 - learning_rate: 1.0000e-03\n",
            "Epoch 45/50\n",
            "46/46 - 68s - 1s/step - loss: 0.3079 - precision: 0.8186 - recall: 1.0000 - val_loss: 0.2337 - val_precision: 0.9400 - val_recall: 1.0000 - learning_rate: 1.0000e-03\n",
            "Epoch 46/50\n",
            "46/46 - 68s - 1s/step - loss: 0.3071 - precision: 0.8297 - recall: 1.0000 - val_loss: 0.2284 - val_precision: 0.9293 - val_recall: 1.0000 - learning_rate: 1.0000e-03\n",
            "Epoch 47/50\n",
            "46/46 - 68s - 1s/step - loss: 0.3169 - precision: 0.8294 - recall: 1.0000 - val_loss: 0.2085 - val_precision: 0.9320 - val_recall: 1.0000 - learning_rate: 1.0000e-03\n",
            "Epoch 48/50\n",
            "46/46 - 67s - 1s/step - loss: 0.2687 - precision: 0.8574 - recall: 1.0000 - val_loss: 0.1900 - val_precision: 0.9352 - val_recall: 1.0000 - learning_rate: 1.0000e-03\n",
            "Epoch 49/50\n",
            "46/46 - 66s - 1s/step - loss: 0.3129 - precision: 0.8134 - recall: 1.0000 - val_loss: 0.2194 - val_precision: 0.9400 - val_recall: 1.0000 - learning_rate: 1.0000e-03\n",
            "Epoch 50/50\n",
            "46/46 - 66s - 1s/step - loss: 0.2800 - precision: 0.8515 - recall: 1.0000 - val_loss: 0.1990 - val_precision: 0.9588 - val_recall: 1.0000 - learning_rate: 1.0000e-03\n"
          ]
        }
      ],
      "source": [
        "# Entrenar el modelo\n",
        "hist = model.fit(train_gen, validation_data=val_gen, verbose = 2, epochs=50, callbacks=[early_stop, reduce_lr], shuffle = 'true')\n"
      ]
    },
    {
      "cell_type": "code",
      "execution_count": null,
      "metadata": {
        "colab": {
          "base_uri": "https://localhost:8080/",
          "height": 451
        },
        "id": "uvx8N9fabeJd",
        "outputId": "c1d80d69-6ed6-405f-bd37-06b837b6ad32"
      },
      "outputs": [
        {
          "data": {
            "image/png": "[encoded data removed]",
            "text/plain": [
              "<Figure size 640x480 with 1 Axes>"
            ]
          },
          "metadata": {},
          "output_type": "display_data"
        }
      ],
      "source": [
        "#Graficar error y exactitud del modelo\n",
        "plt.plot(hist.history['recall'])\n",
        "plt.legend(['Exactitud'])\n",
        "plt.xlabel('Épocas')\n",
        "plt.ylabel('Exactitud')\n",
        "plt.show()"
      ]
    },
    {
      "cell_type": "code",
      "execution_count": 32,
      "metadata": {
        "colab": {
          "base_uri": "https://localhost:8080/",
          "height": 474
        },
        "id": "qLKS2B69cHKQ",
        "outputId": "4b8538f4-0364-486d-c2f0-42d57230ce5c"
      },
      "outputs": [
        {
          "data": {
            "image/png": "[encoded data removed]",
            "text/plain": [
              "<Figure size 640x480 with 1 Axes>"
            ]
          },
          "metadata": {},
          "output_type": "display_data"
        }
      ],
      "source": [
        "plt.plot(hist.history['loss'])\n",
        "plt.legend(['Error'])\n",
        "plt.title('Error del modelo')\n",
        "plt.xlabel('Épocas')\n",
        "plt.show()"
      ]
    },
    {
      "cell_type": "code",
      "execution_count": 33,
      "metadata": {
        "colab": {
          "base_uri": "https://localhost:8080/",
          "height": 524
        },
        "id": "IajGI5Xe-ThY",
        "outputId": "f0944e79-9a0b-4fae-d0ef-5f3da8501604"
      },
      "outputs": [
        {
          "name": "stdout",
          "output_type": "stream",
          "text": [
            "\u001b[1m12/12\u001b[0m \u001b[32m━━━━━━━━━━━━━━━━━━━━\u001b[0m\u001b[37m\u001b[0m \u001b[1m1s\u001b[0m 76ms/step\n"
          ]
        },
        {
          "data": {
            "image/png": "[encoded data removed]",
            "text/plain": [
              "<Figure size 640x480 with 2 Axes>"
            ]
          },
          "metadata": {},
          "output_type": "display_data"
        }
      ],
      "source": [
        "# Listas para almacenar todas las imágenes y etiquetas\n",
        "X_test = []\n",
        "y_test = []\n",
        "\n",
        "# Calculamos cuántos batchs hay en total en val_gen\n",
        "num_batches = int(np.ceil(val_gen.samples / val_gen.batch_size))\n",
        "\n",
        "# Recorremos todos los lotes del generador de validación\n",
        "for _ in range(num_batches):\n",
        "    x_batch, y_batch = next(val_gen) # Obtenemos un lote de imágenes y etiquetas\n",
        "    X_test.extend(x_batch)          # Agregamos las imágenes a la lista\n",
        "    y_test.extend(y_batch)\n",
        "\n",
        "# Convertimos las listas a arreglos\n",
        "X_test = np.array(X_test)\n",
        "y_test = np.array(y_test)\n",
        "\n",
        "# Predecir las clases\n",
        "y_predict = (model.predict(X_test) > 0.5).astype(int).flatten()\n",
        "\n",
        "# Evaluar en conjunto de prueba\n",
        "#loss, acc = model.evaluate(X_test, y_test)\n",
        "#print(f\"Precisión en test: {acc:.4f}, Pérdida: {loss:.4f}\")\n",
        "\n",
        "# Matriz de confusión\n",
        "cm = confusion_matrix(y_test, y_predict)\n",
        "\n",
        "disp = ConfusionMatrixDisplay(confusion_matrix=cm, display_labels=val_gen.class_indices.keys())\n",
        "disp.plot(cmap=plt.cm.Blues)\n",
        "plt.title(\"Matriz de Confusión\")\n",
        "plt.show()\n"
      ]
    }
  ],
  "metadata": {
    "accelerator": "GPU",
    "colab": {
      "gpuType": "T4",
      "provenance": []
    },
    "kernelspec": {
      "display_name": "Python 3",
      "name": "python3"
    },
    "language_info": {
      "codemirror_mode": {
        "name": "ipython",
        "version": 3
      },
      "file_extension": ".py",
      "mimetype": "text/x-python",
      "name": "python",
      "nbconvert_exporter": "python",
      "pygments_lexer": "ipython3",
      "version": "3.12.1"
    }
  },
  "nbformat": 4,
  "nbformat_minor": 0
}
